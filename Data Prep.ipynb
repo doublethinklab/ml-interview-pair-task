{
 "cells": [
  {
   "cell_type": "code",
   "execution_count": 1,
   "id": "5334ca06",
   "metadata": {},
   "outputs": [
    {
     "name": "stdout",
     "output_type": "stream",
     "text": [
      "Collecting pandas\n",
      "  Downloading pandas-1.3.3-cp39-cp39-manylinux_2_17_x86_64.manylinux2014_x86_64.whl (11.5 MB)\n",
      "\u001b[K     |████████████████████████████████| 11.5 MB 3.6 MB/s eta 0:00:01\n",
      "\u001b[?25hCollecting pytz>=2017.3\n",
      "  Downloading pytz-2021.1-py2.py3-none-any.whl (510 kB)\n",
      "\u001b[K     |████████████████████████████████| 510 kB 2.1 MB/s eta 0:00:01\n",
      "\u001b[?25hCollecting numpy>=1.17.3\n",
      "  Downloading numpy-1.21.2-cp39-cp39-manylinux_2_12_x86_64.manylinux2010_x86_64.whl (15.8 MB)\n",
      "\u001b[K     |████████████████████████████████| 15.8 MB 4.3 MB/s eta 0:00:01    |██████████████▋                 | 7.2 MB 4.4 MB/s eta 0:00:02\n",
      "\u001b[?25hRequirement already satisfied: python-dateutil>=2.7.3 in /usr/local/lib/python3.9/site-packages (from pandas) (2.8.2)\n",
      "Requirement already satisfied: six>=1.5 in /usr/local/lib/python3.9/site-packages (from python-dateutil>=2.7.3->pandas) (1.16.0)\n",
      "Installing collected packages: pytz, numpy, pandas\n",
      "Successfully installed numpy-1.21.2 pandas-1.3.3 pytz-2021.1\n",
      "\u001b[33mWARNING: Running pip as the 'root' user can result in broken permissions and conflicting behaviour with the system package manager. It is recommended to use a virtual environment instead: https://pip.pypa.io/warnings/venv\u001b[0m\n",
      "\u001b[33mWARNING: You are using pip version 21.1.3; however, version 21.2.4 is available.\n",
      "You should consider upgrading via the '/usr/local/bin/python -m pip install --upgrade pip' command.\u001b[0m\n"
     ]
    }
   ],
   "source": [
    "import sys\n",
    "!{sys.executable} -m pip install pandas"
   ]
  },
  {
   "cell_type": "code",
   "execution_count": 2,
   "id": "ffb88c74",
   "metadata": {},
   "outputs": [],
   "source": [
    "from collections import Counter\n",
    "import json\n",
    "import os\n",
    "\n",
    "import pandas as pd"
   ]
  },
  {
   "cell_type": "code",
   "execution_count": 3,
   "id": "453e5b03",
   "metadata": {},
   "outputs": [
    {
     "name": "stderr",
     "output_type": "stream",
     "text": [
      "/usr/local/lib/python3.9/site-packages/IPython/core/interactiveshell.py:3441: DtypeWarning: Columns (0) have mixed types.Specify dtype option on import or set low_memory=False.\n",
      "  exec(code_obj, self.user_global_ns, self.user_ns)\n"
     ]
    }
   ],
   "source": [
    "df = pd.read_csv('temp/tweets.csv')"
   ]
  },
  {
   "cell_type": "code",
   "execution_count": 4,
   "id": "4fde4678",
   "metadata": {},
   "outputs": [
    {
     "data": {
      "text/plain": [
       "410874"
      ]
     },
     "execution_count": 4,
     "metadata": {},
     "output_type": "execute_result"
    }
   ],
   "source": [
    "len(df)"
   ]
  },
  {
   "cell_type": "code",
   "execution_count": 5,
   "id": "c4953c69",
   "metadata": {},
   "outputs": [
    {
     "data": {
      "text/html": [
       "<div>\n",
       "<style scoped>\n",
       "    .dataframe tbody tr th:only-of-type {\n",
       "        vertical-align: middle;\n",
       "    }\n",
       "\n",
       "    .dataframe tbody tr th {\n",
       "        vertical-align: top;\n",
       "    }\n",
       "\n",
       "    .dataframe thead th {\n",
       "        text-align: right;\n",
       "    }\n",
       "</style>\n",
       "<table border=\"1\" class=\"dataframe\">\n",
       "  <thead>\n",
       "    <tr style=\"text-align: right;\">\n",
       "      <th></th>\n",
       "      <th>id</th>\n",
       "      <th>date</th>\n",
       "      <th>username</th>\n",
       "      <th>tweet</th>\n",
       "    </tr>\n",
       "  </thead>\n",
       "  <tbody>\n",
       "    <tr>\n",
       "      <th>0</th>\n",
       "      <td>1399401864735727617</td>\n",
       "      <td>2021-05-31</td>\n",
       "      <td>foreignpoli_c</td>\n",
       "      <td>Canadian military trainers and aid have suppor...</td>\n",
       "    </tr>\n",
       "    <tr>\n",
       "      <th>1</th>\n",
       "      <td>1398705022045671427</td>\n",
       "      <td>2021-05-29</td>\n",
       "      <td>foreignpoli_c</td>\n",
       "      <td>@davidsheen In Canada JDL's Weinstein coordina...</td>\n",
       "    </tr>\n",
       "    <tr>\n",
       "      <th>2</th>\n",
       "      <td>1398700432399155200</td>\n",
       "      <td>2021-05-29</td>\n",
       "      <td>foreignpoli_c</td>\n",
       "      <td>Stop all Canadian weapons sales. Remove Colomb...</td>\n",
       "    </tr>\n",
       "    <tr>\n",
       "      <th>3</th>\n",
       "      <td>1398680866474409996</td>\n",
       "      <td>2021-05-29</td>\n",
       "      <td>foreignpoli_c</td>\n",
       "      <td>Liberal MP Nathaniel Erskine-Smith openly crit...</td>\n",
       "    </tr>\n",
       "    <tr>\n",
       "      <th>4</th>\n",
       "      <td>1398666728557539329</td>\n",
       "      <td>2021-05-29</td>\n",
       "      <td>foreignpoli_c</td>\n",
       "      <td>As projected costs have ballooned to $286 bill...</td>\n",
       "    </tr>\n",
       "  </tbody>\n",
       "</table>\n",
       "</div>"
      ],
      "text/plain": [
       "                    id        date       username  \\\n",
       "0  1399401864735727617  2021-05-31  foreignpoli_c   \n",
       "1  1398705022045671427  2021-05-29  foreignpoli_c   \n",
       "2  1398700432399155200  2021-05-29  foreignpoli_c   \n",
       "3  1398680866474409996  2021-05-29  foreignpoli_c   \n",
       "4  1398666728557539329  2021-05-29  foreignpoli_c   \n",
       "\n",
       "                                               tweet  \n",
       "0  Canadian military trainers and aid have suppor...  \n",
       "1  @davidsheen In Canada JDL's Weinstein coordina...  \n",
       "2  Stop all Canadian weapons sales. Remove Colomb...  \n",
       "3  Liberal MP Nathaniel Erskine-Smith openly crit...  \n",
       "4  As projected costs have ballooned to $286 bill...  "
      ]
     },
     "execution_count": 5,
     "metadata": {},
     "output_type": "execute_result"
    }
   ],
   "source": [
    "df.head()"
   ]
  },
  {
   "cell_type": "code",
   "execution_count": 6,
   "id": "63c14abf",
   "metadata": {},
   "outputs": [],
   "source": [
    "df = df.sample(500, random_state=42)"
   ]
  },
  {
   "cell_type": "code",
   "execution_count": 7,
   "id": "1d0aa4e0",
   "metadata": {},
   "outputs": [
    {
     "data": {
      "text/html": [
       "<div>\n",
       "<style scoped>\n",
       "    .dataframe tbody tr th:only-of-type {\n",
       "        vertical-align: middle;\n",
       "    }\n",
       "\n",
       "    .dataframe tbody tr th {\n",
       "        vertical-align: top;\n",
       "    }\n",
       "\n",
       "    .dataframe thead th {\n",
       "        text-align: right;\n",
       "    }\n",
       "</style>\n",
       "<table border=\"1\" class=\"dataframe\">\n",
       "  <thead>\n",
       "    <tr style=\"text-align: right;\">\n",
       "      <th></th>\n",
       "      <th>id</th>\n",
       "      <th>date</th>\n",
       "      <th>username</th>\n",
       "      <th>tweet</th>\n",
       "    </tr>\n",
       "  </thead>\n",
       "  <tbody>\n",
       "    <tr>\n",
       "      <th>103923</th>\n",
       "      <td>1292567579098308609</td>\n",
       "      <td>2020-08-09</td>\n",
       "      <td>sputnikint</td>\n",
       "      <td>Pentagon chief explains why US is putting more...</td>\n",
       "    </tr>\n",
       "    <tr>\n",
       "      <th>170254</th>\n",
       "      <td>1314833041731223552</td>\n",
       "      <td>2020-10-10</td>\n",
       "      <td>cgtnofficial</td>\n",
       "      <td>Miami #Heat edge Los Angeles #Lakers in thrill...</td>\n",
       "    </tr>\n",
       "    <tr>\n",
       "      <th>71393</th>\n",
       "      <td>1352055812408033280</td>\n",
       "      <td>2021-01-21</td>\n",
       "      <td>sputnikint</td>\n",
       "      <td>NASA may limit its presence in Russia over shr...</td>\n",
       "    </tr>\n",
       "    <tr>\n",
       "      <th>37567</th>\n",
       "      <td>1359901561032425474</td>\n",
       "      <td>2021-02-11</td>\n",
       "      <td>nationalpost</td>\n",
       "      <td>Ottawa announces $55 million in clean tech fun...</td>\n",
       "    </tr>\n",
       "    <tr>\n",
       "      <th>269573</th>\n",
       "      <td>1371580152258433025</td>\n",
       "      <td>2021-03-15</td>\n",
       "      <td>rt_com</td>\n",
       "      <td>Portugal's top court rejects bill to legalize ...</td>\n",
       "    </tr>\n",
       "  </tbody>\n",
       "</table>\n",
       "</div>"
      ],
      "text/plain": [
       "                         id        date      username  \\\n",
       "103923  1292567579098308609  2020-08-09    sputnikint   \n",
       "170254  1314833041731223552  2020-10-10  cgtnofficial   \n",
       "71393   1352055812408033280  2021-01-21    sputnikint   \n",
       "37567   1359901561032425474  2021-02-11  nationalpost   \n",
       "269573  1371580152258433025  2021-03-15        rt_com   \n",
       "\n",
       "                                                    tweet  \n",
       "103923  Pentagon chief explains why US is putting more...  \n",
       "170254  Miami #Heat edge Los Angeles #Lakers in thrill...  \n",
       "71393   NASA may limit its presence in Russia over shr...  \n",
       "37567   Ottawa announces $55 million in clean tech fun...  \n",
       "269573  Portugal's top court rejects bill to legalize ...  "
      ]
     },
     "execution_count": 7,
     "metadata": {},
     "output_type": "execute_result"
    }
   ],
   "source": [
    "df.head()"
   ]
  },
  {
   "cell_type": "code",
   "execution_count": 8,
   "id": "3c957146",
   "metadata": {},
   "outputs": [],
   "source": [
    "def tokenize_and_clean(text):\n",
    "    tokens = text.split(' ')\n",
    "    tokens = [x.replace('#', '').lower() \n",
    "              for x in tokens]\n",
    "    tokens = [x for x in tokens\n",
    "              if x != ''\n",
    "              and not x.startswith('http')]\n",
    "    return tokens"
   ]
  },
  {
   "cell_type": "code",
   "execution_count": 9,
   "id": "65f6027d",
   "metadata": {},
   "outputs": [
    {
     "name": "stdout",
     "output_type": "stream",
     "text": [
      "Pentagon chief explains why US is putting more troops on Russia’s borders  @DeptofDefense @EsperDoD  https://t.co/rmLeRu5Fpu\n",
      "['pentagon', 'chief', 'explains', 'why', 'us', 'is', 'putting', 'more', 'troops', 'on', 'russia’s', 'borders', '@deptofdefense', '@esperdod']\n",
      "Miami #Heat edge Los Angeles #Lakers in thriller to keep #NBA title dream alive  https://t.co/8rtZcSFtax\n",
      "['miami', 'heat', 'edge', 'los', 'angeles', 'lakers', 'in', 'thriller', 'to', 'keep', 'nba', 'title', 'dream', 'alive']\n",
      "NASA may limit its presence in Russia over shrinking cooperation on ISS, sources say  @NASA @Space_Station  https://t.co/fC6bWOQyYp\n",
      "['nasa', 'may', 'limit', 'its', 'presence', 'in', 'russia', 'over', 'shrinking', 'cooperation', 'on', 'iss,', 'sources', 'say', '@nasa', '@space_station']\n",
      "Ottawa announces $55 million in clean tech funding for 20 companies  https://t.co/0c9H35MCYb\n",
      "['ottawa', 'announces', '$55', 'million', 'in', 'clean', 'tech', 'funding', 'for', '20', 'companies']\n",
      "Portugal's top court rejects bill to legalize euthanasia as unconstitutional  https://t.co/5Rnxb3NdU1\n",
      "[\"portugal's\", 'top', 'court', 'rejects', 'bill', 'to', 'legalize', 'euthanasia', 'as', 'unconstitutional']\n"
     ]
    }
   ],
   "source": [
    "for _, x in df.iloc[0:5].iterrows():\n",
    "    print(x.tweet)\n",
    "    print(tokenize_and_clean(x.tweet))"
   ]
  },
  {
   "cell_type": "code",
   "execution_count": 10,
   "id": "185dd1b6",
   "metadata": {},
   "outputs": [],
   "source": [
    "for _, x in df.iterrows():\n",
    "    with open(f'data/tweets/{x.id}.txt', 'w+') as f:\n",
    "        tokens = tokenize_and_clean(x.tweet)\n",
    "        f.write(' '.join(tokens))"
   ]
  },
  {
   "cell_type": "markdown",
   "id": "27b6cf4d",
   "metadata": {},
   "source": [
    "## Data Loader, Vocab, Etc"
   ]
  },
  {
   "cell_type": "code",
   "execution_count": 18,
   "id": "c8e62402",
   "metadata": {},
   "outputs": [],
   "source": [
    "def get_docs():\n",
    "    files = os.listdir('data/tweets')\n",
    "    for file in files:\n",
    "        with open(f'data/tweets/{file}') as f:\n",
    "            tokens = f.read().strip().split(' ')\n",
    "            if len(tokens) >= 5:\n",
    "                yield tokens\n",
    "\n",
    "def get_tokens():\n",
    "    for doc in get_docs():\n",
    "        for token in doc:\n",
    "            yield token"
   ]
  },
  {
   "cell_type": "code",
   "execution_count": 19,
   "id": "7c1a3b2f",
   "metadata": {},
   "outputs": [],
   "source": [
    "vocab = list(set(get_tokens()))\n",
    "vocab = dict(zip(vocab, range(len(vocab))))\n",
    "token_to_count = {t: c for t, c in Counter(get_tokens()).items()}"
   ]
  },
  {
   "cell_type": "code",
   "execution_count": 20,
   "id": "9d65d9a7",
   "metadata": {},
   "outputs": [],
   "source": [
    "with open('data/vocab.json', 'w+') as f:\n",
    "    f.write(json.dumps(vocab))"
   ]
  },
  {
   "cell_type": "code",
   "execution_count": 21,
   "id": "5e1f4eb5",
   "metadata": {},
   "outputs": [],
   "source": [
    "with open('data/counts.json', 'w+') as f:\n",
    "    f.write(json.dumps(token_to_count))"
   ]
  },
  {
   "cell_type": "code",
   "execution_count": 22,
   "id": "cb3752b4",
   "metadata": {},
   "outputs": [],
   "source": [
    "contexts = {}\n",
    "window = 2\n",
    "\n",
    "for doc in get_docs():\n",
    "    for i in range(len(doc)):\n",
    "        tok = doc[i]\n",
    "        ctx_start = max(0, i - window)\n",
    "        ctx_end = min(len(doc) - 1, i + window)\n",
    "        ctx_ixs = [j for j in range(ctx_start, ctx_end)\n",
    "                   if j != i]\n",
    "        if tok not in contexts:\n",
    "            contexts[tok] = set([])\n",
    "        ctxs = [doc[j] for j in ctx_ixs]\n",
    "        contexts[tok].update(ctxs)"
   ]
  },
  {
   "cell_type": "code",
   "execution_count": 24,
   "id": "9cb63887",
   "metadata": {},
   "outputs": [],
   "source": [
    "contexts = {t: list(c) for t, c in contexts.items()}"
   ]
  },
  {
   "cell_type": "code",
   "execution_count": 25,
   "id": "5363ad90",
   "metadata": {},
   "outputs": [
    {
     "data": {
      "text/plain": [
       "1"
      ]
     },
     "execution_count": 25,
     "metadata": {},
     "output_type": "execute_result"
    }
   ],
   "source": [
    "min([len(v) for v in contexts.values()])"
   ]
  },
  {
   "cell_type": "code",
   "execution_count": 26,
   "id": "9bccc59b",
   "metadata": {},
   "outputs": [],
   "source": [
    "with open('data/contexts.json', 'w+') as f:\n",
    "    f.write(json.dumps(contexts))"
   ]
  },
  {
   "cell_type": "code",
   "execution_count": 30,
   "id": "63f09e38",
   "metadata": {},
   "outputs": [
    {
     "data": {
      "text/plain": [
       "['administration',\n",
       " 'for',\n",
       " 'incoming',\n",
       " 'announces',\n",
       " 'joe',\n",
       " 'pressure',\n",
       " 'the',\n",
       " 'to',\n",
       " 'immediately',\n",
       " 'certified',\n",
       " 'president',\n",
       " 'if']"
      ]
     },
     "execution_count": 30,
     "metadata": {},
     "output_type": "execute_result"
    }
   ],
   "source": [
    "contexts['biden']"
   ]
  }
 ],
 "metadata": {
  "kernelspec": {
   "display_name": "Python 3 (ipykernel)",
   "language": "python",
   "name": "python3"
  },
  "language_info": {
   "codemirror_mode": {
    "name": "ipython",
    "version": 3
   },
   "file_extension": ".py",
   "mimetype": "text/x-python",
   "name": "python",
   "nbconvert_exporter": "python",
   "pygments_lexer": "ipython3",
   "version": "3.9.5"
  }
 },
 "nbformat": 4,
 "nbformat_minor": 5
}
